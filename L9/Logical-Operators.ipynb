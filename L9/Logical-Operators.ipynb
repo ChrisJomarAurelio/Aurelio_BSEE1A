{
 "cells": [
  {
   "cell_type": "markdown",
   "id": "3c9b57ed",
   "metadata": {},
   "source": [
    "# Logical Operators<br>\n",
    "CONDITIONAL STATEMENT <hr style = \"border:2.5px Solid #126782\"></hr>"
   ]
  },
  {
   "cell_type": "markdown",
   "id": "8929b88f",
   "metadata": {},
   "source": [
    "Data Analyst: Chris Jomar A. Aurelio <br>\n",
    "Department: Electrical Engineering"
   ]
  },
  {
   "cell_type": "markdown",
   "id": "8030876b",
   "metadata": {},
   "source": [
    "# Logical AND"
   ]
  },
  {
   "cell_type": "code",
   "execution_count": 2,
   "id": "766c1419",
   "metadata": {},
   "outputs": [
    {
     "name": "stdout",
     "output_type": "stream",
     "text": [
      "Both a and b are True\n"
     ]
    }
   ],
   "source": [
    "# a AND b must be True\n",
    "a = True\n",
    "b = True    \n",
    "\n",
    "if a and b:\n",
    "    print(\"Both a and b are True\")\n",
    "elif not (a) and not (b):\n",
    "    print(\"both are False\")\n",
    "else:\n",
    "    print(\"atleast one is False\")    "
   ]
  },
  {
   "cell_type": "code",
   "execution_count": 15,
   "id": "3ac8c07f",
   "metadata": {},
   "outputs": [
    {
     "name": "stdout",
     "output_type": "stream",
     "text": [
      "18 is within the range of 11 to 20.\n"
     ]
    }
   ],
   "source": [
    "# Check if the a is within the range of 1 to 30\n",
    "a = 18\n",
    "\n",
    "if (a > 0) and (a <= 10): \n",
    "   print(str(a) + \" is within the range of 1 to 10.\")\n",
    "elif (a > 10) and (a <= 20):\n",
    "    print(str(a) + \" is within the range of 11 to 20.\")\n",
    "elif (a > 20) and (a <= 30):\n",
    "    print(str(a) + \" is within the range of 21 to 30.\")\n",
    "else:\n",
    "    print(str(a) + \" is out of range.\")"
   ]
  },
  {
   "cell_type": "markdown",
   "id": "791a3332",
   "metadata": {},
   "source": [
    "# Logical OR"
   ]
  },
  {
   "cell_type": "code",
   "execution_count": 19,
   "id": "8a10e922",
   "metadata": {},
   "outputs": [
    {
     "name": "stdout",
     "output_type": "stream",
     "text": [
      "both are False\n"
     ]
    }
   ],
   "source": [
    "# either a OR b must be True\n",
    "a = False\n",
    "b = False\n",
    "\n",
    "if a or b:\n",
    "    print(\"at least one is True\")\n",
    "else:\n",
    "    print(\"both are False\") "
   ]
  },
  {
   "cell_type": "code",
   "execution_count": 27,
   "id": "ee15f84e",
   "metadata": {},
   "outputs": [
    {
     "name": "stdout",
     "output_type": "stream",
     "text": [
      "It's a great day to go outside!\n"
     ]
    }
   ],
   "source": [
    "# Go outside or stay indoors\n",
    "weather = \"e\"\n",
    "\n",
    "a = \"rainy\"\n",
    "b = \"stormy\"\n",
    "c = \"cloudy\"\n",
    "d = \"clear\"\n",
    "e = \"sunny\"\n",
    "\n",
    "if(weather == \"a\") or (weather == \"b\"):\n",
    "    print(\"Bring an umbrella or stay indoors!\")\n",
    "elif (weather == \"e\") or (weather == \"d\"):\n",
    "    print(\"It's a great day to go outside!\")\n",
    "else:\n",
    "    print(\"Weather is unpredictable today.\")"
   ]
  },
  {
   "cell_type": "markdown",
   "id": "8da2f14d",
   "metadata": {},
   "source": [
    "# Logical NOT"
   ]
  },
  {
   "cell_type": "code",
   "execution_count": 17,
   "id": "fbbc5874",
   "metadata": {},
   "outputs": [
    {
     "data": {
      "text/plain": [
       "False"
      ]
     },
     "execution_count": 17,
     "metadata": {},
     "output_type": "execute_result"
    }
   ],
   "source": [
    "# negates the logical state\n",
    "a = True\n",
    "\n",
    "not a"
   ]
  },
  {
   "cell_type": "code",
   "execution_count": 1,
   "id": "5807398a",
   "metadata": {},
   "outputs": [
    {
     "name": "stdout",
     "output_type": "stream",
     "text": [
      "8 is an odd number.\n"
     ]
    }
   ],
   "source": [
    "# Odd or Even number\n",
    "a = pow (2,3)\n",
    "\n",
    "\n",
    "if not (a % 2 == 0):\n",
    "    print(str(a) + \" is an even number.\")\n",
    "else:\n",
    "    print(str(a) + \" is an odd number.\")\n",
    "    "
   ]
  }
 ],
 "metadata": {
  "kernelspec": {
   "display_name": "Python 3",
   "language": "python",
   "name": "python3"
  },
  "language_info": {
   "codemirror_mode": {
    "name": "ipython",
    "version": 3
   },
   "file_extension": ".py",
   "mimetype": "text/x-python",
   "name": "python",
   "nbconvert_exporter": "python",
   "pygments_lexer": "ipython3",
   "version": "3.13.3"
  }
 },
 "nbformat": 4,
 "nbformat_minor": 5
}
