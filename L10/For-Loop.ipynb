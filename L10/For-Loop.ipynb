{
 "cells": [
  {
   "cell_type": "markdown",
   "id": "97629e7f",
   "metadata": {},
   "source": [
    "# For Loop<br>\n",
    " <hr style = \"border:2.5px Solid #126782\"></hr>\n"
   ]
  },
  {
   "cell_type": "markdown",
   "id": "0dc8cc27",
   "metadata": {},
   "source": [
    "Data Analyst: Chris Jomar A. Aurelio <br>\n",
    "Department: Electrical Engineering"
   ]
  },
  {
   "cell_type": "code",
   "execution_count": 1,
   "id": "68bebab1",
   "metadata": {},
   "outputs": [],
   "source": [
    "#%pip install numpy --upgrade"
   ]
  },
  {
   "cell_type": "code",
   "execution_count": 2,
   "id": "4fcac865",
   "metadata": {},
   "outputs": [
    {
     "name": "stdout",
     "output_type": "stream",
     "text": [
      "Defaulting to user installation because normal site-packages is not writeable\n",
      "Requirement already satisfied: stats in c:\\users\\chris\\appdata\\local\\packages\\pythonsoftwarefoundation.python.3.13_qbz5n2kfra8p0\\localcache\\local-packages\\python313\\site-packages (0.1.2a0)\n",
      "Note: you may need to restart the kernel to use updated packages.\n"
     ]
    },
    {
     "name": "stderr",
     "output_type": "stream",
     "text": [
      "\n",
      "[notice] A new release of pip is available: 25.0.1 -> 25.1\n",
      "[notice] To update, run: C:\\Users\\Chris\\AppData\\Local\\Microsoft\\WindowsApps\\PythonSoftwareFoundation.Python.3.13_qbz5n2kfra8p0\\python.exe -m pip install --upgrade pip\n"
     ]
    }
   ],
   "source": [
    "%pip install stats"
   ]
  },
  {
   "cell_type": "code",
   "execution_count": 3,
   "id": "c3f39a3e",
   "metadata": {},
   "outputs": [
    {
     "name": "stdout",
     "output_type": "stream",
     "text": [
      "Defaulting to user installation because normal site-packages is not writeable\n",
      "Requirement already satisfied: scipy in c:\\users\\chris\\appdata\\local\\packages\\pythonsoftwarefoundation.python.3.13_qbz5n2kfra8p0\\localcache\\local-packages\\python313\\site-packages (1.15.2)\n",
      "Requirement already satisfied: numpy<2.5,>=1.23.5 in c:\\users\\chris\\appdata\\local\\packages\\pythonsoftwarefoundation.python.3.13_qbz5n2kfra8p0\\localcache\\local-packages\\python313\\site-packages (from scipy) (2.2.5)\n",
      "Note: you may need to restart the kernel to use updated packages.\n"
     ]
    },
    {
     "name": "stderr",
     "output_type": "stream",
     "text": [
      "\n",
      "[notice] A new release of pip is available: 25.0.1 -> 25.1\n",
      "[notice] To update, run: C:\\Users\\Chris\\AppData\\Local\\Microsoft\\WindowsApps\\PythonSoftwareFoundation.Python.3.13_qbz5n2kfra8p0\\python.exe -m pip install --upgrade pip\n"
     ]
    }
   ],
   "source": [
    "%pip install scipy"
   ]
  },
  {
   "cell_type": "code",
   "execution_count": 4,
   "id": "77104bcf",
   "metadata": {},
   "outputs": [],
   "source": [
    "from scipy import stats\n"
   ]
  },
  {
   "cell_type": "code",
   "execution_count": 5,
   "id": "2c915fb3",
   "metadata": {},
   "outputs": [],
   "source": [
    "import numpy as np"
   ]
  },
  {
   "cell_type": "markdown",
   "id": "b2d00428",
   "metadata": {},
   "source": [
    "# Iterating Over a List"
   ]
  },
  {
   "cell_type": "code",
   "execution_count": 6,
   "id": "03317335",
   "metadata": {},
   "outputs": [
    {
     "name": "stdout",
     "output_type": "stream",
     "text": [
      "apple\n",
      "papaya\n",
      "grapes\n",
      "5\n"
     ]
    }
   ],
   "source": [
    "# at index 0, i = \"apple\"\n",
    "fruits = [\"apple\", \"papaya\", \"grapes\",5]\n",
    "\n",
    "for i in fruits:\n",
    "    print(i)"
   ]
  },
  {
   "cell_type": "code",
   "execution_count": 7,
   "id": "c836321c",
   "metadata": {},
   "outputs": [
    {
     "name": "stdout",
     "output_type": "stream",
     "text": [
      "1\n",
      "2\n",
      "3\n",
      "4\n",
      "5\n",
      "6\n",
      "7\n",
      "8\n",
      "9\n",
      "10\n"
     ]
    }
   ],
   "source": [
    "# at index 0, n = 1\n",
    "numbers = [1,2,3,4,5,6,7,8,9,10]\n",
    "\n",
    "for n in numbers:\n",
    "    print(n)"
   ]
  },
  {
   "cell_type": "code",
   "execution_count": 8,
   "id": "b16cb3fc",
   "metadata": {},
   "outputs": [
    {
     "data": {
      "text/plain": [
       "np.float64(5.5)"
      ]
     },
     "execution_count": 8,
     "metadata": {},
     "output_type": "execute_result"
    }
   ],
   "source": [
    " np.mean(numbers)"
   ]
  },
  {
   "cell_type": "code",
   "execution_count": 9,
   "id": "560782b7",
   "metadata": {},
   "outputs": [
    {
     "data": {
      "text/plain": [
       "np.float64(2.8722813232690143)"
      ]
     },
     "execution_count": 9,
     "metadata": {},
     "output_type": "execute_result"
    }
   ],
   "source": [
    "# population standard deviation\n",
    "np.std(numbers)"
   ]
  },
  {
   "cell_type": "code",
   "execution_count": 10,
   "id": "b9c1f39f",
   "metadata": {},
   "outputs": [
    {
     "data": {
      "text/plain": [
       "np.float64(3.0276503540974917)"
      ]
     },
     "execution_count": 10,
     "metadata": {},
     "output_type": "execute_result"
    }
   ],
   "source": [
    "# sample standard deviation\n",
    "np.std(numbers, ddof=1)"
   ]
  },
  {
   "cell_type": "code",
   "execution_count": 11,
   "id": "522962ba",
   "metadata": {},
   "outputs": [
    {
     "data": {
      "text/plain": [
       "np.float64(5.5)"
      ]
     },
     "execution_count": 11,
     "metadata": {},
     "output_type": "execute_result"
    }
   ],
   "source": [
    "np.median(numbers)"
   ]
  },
  {
   "cell_type": "code",
   "execution_count": 12,
   "id": "2fc2a568",
   "metadata": {},
   "outputs": [
    {
     "data": {
      "text/plain": [
       "ModeResult(mode=np.int64(1), count=np.int64(1))"
      ]
     },
     "execution_count": 12,
     "metadata": {},
     "output_type": "execute_result"
    }
   ],
   "source": [
    "stats.mode(numbers)"
   ]
  },
  {
   "cell_type": "markdown",
   "id": "d5b989ef",
   "metadata": {},
   "source": [
    "# Iterating Over a Range"
   ]
  },
  {
   "cell_type": "code",
   "execution_count": 13,
   "id": "66274531",
   "metadata": {},
   "outputs": [
    {
     "name": "stdout",
     "output_type": "stream",
     "text": [
      "1\n",
      "2\n",
      "3\n",
      "4\n",
      "5\n",
      "6\n",
      "7\n",
      "8\n",
      "9\n",
      "10\n"
     ]
    }
   ],
   "source": [
    "for j in range (0,10):\n",
    "    j = j + 1\n",
    "    print(j)"
   ]
  },
  {
   "cell_type": "code",
   "execution_count": 14,
   "id": "39cd2b88",
   "metadata": {},
   "outputs": [
    {
     "name": "stdout",
     "output_type": "stream",
     "text": [
      "1\n",
      "3\n",
      "5\n",
      "7\n",
      "9\n"
     ]
    }
   ],
   "source": [
    "for j in range (1,10,2):\n",
    "\n",
    "    print(j)"
   ]
  },
  {
   "cell_type": "markdown",
   "id": "1f2a64f4",
   "metadata": {},
   "source": [
    "# Iterating Over a Dictionary"
   ]
  },
  {
   "cell_type": "code",
   "execution_count": 15,
   "id": "17eb4e36",
   "metadata": {},
   "outputs": [
    {
     "name": "stdout",
     "output_type": "stream",
     "text": [
      "A\n",
      "u\n",
      "r\n",
      "e\n",
      "l\n",
      "i\n",
      "o\n"
     ]
    }
   ],
   "source": [
    "for char in \"Aurelio\":\n",
    "    print(char)"
   ]
  },
  {
   "cell_type": "code",
   "execution_count": 16,
   "id": "6190b5df",
   "metadata": {},
   "outputs": [
    {
     "data": {
      "text/plain": [
       "{'name': 'Chris Jomar Aurelio',\n",
       " 'position': 'Electrical Engineer',\n",
       " 'salary': 100000}"
      ]
     },
     "execution_count": 16,
     "metadata": {},
     "output_type": "execute_result"
    }
   ],
   "source": [
    "employee = {\n",
    "    \"name\":\"Chris Jomar Aurelio\",\n",
    "    \"position\":\"Electrical Engineer\",\n",
    "    \"salary\":100000\n",
    "}\n",
    "employee"
   ]
  },
  {
   "cell_type": "code",
   "execution_count": 3,
   "id": "d7b98d49",
   "metadata": {},
   "outputs": [
    {
     "name": "stdout",
     "output_type": "stream",
     "text": [
      "name\n",
      "position\n",
      "salary\n"
     ]
    }
   ],
   "source": [
    "employee = {\n",
    "    \"name\":\"Chris Jomar Aurelio\",\n",
    "    \"position\":\"Electrical Engineer\",\n",
    "    \"salary\":100000\n",
    "}\n",
    "for key in employee:\n",
    "    print(key)"
   ]
  },
  {
   "cell_type": "code",
   "execution_count": null,
   "id": "4f84ecff",
   "metadata": {},
   "outputs": [
    {
     "name": "stdout",
     "output_type": "stream",
     "text": [
      "Chris Jomar Aurelio\n",
      "Electrical Engineer\n",
      "100000\n"
     ]
    }
   ],
   "source": [
    "employee = {\n",
    "    \"name\":\"Chris Jomar Aurelio\",\n",
    "    \"position\":\"Electrical Engineer\",\n",
    "    \"salary\":100000\n",
    "}\n",
    "for value in employee.values():\n",
    "    print(value)"
   ]
  },
  {
   "cell_type": "code",
   "execution_count": null,
   "id": "089fbf09",
   "metadata": {},
   "outputs": [
    {
     "name": "stdout",
     "output_type": "stream",
     "text": [
      "name\n",
      "position\n",
      "salary\n",
      "Chris Jomar Aurelio\n",
      "Electrical Engineer\n",
      "100000\n"
     ]
    }
   ],
   "source": [
    "employee = {\n",
    "    \"name\":\"Chris Jomar Aurelio\",\n",
    "    \"position\":\"Electrical Engineer\",\n",
    "    \"salary\":100000\n",
    "}\n",
    "for key in employee:\n",
    "    print(key)\n",
    "    \n",
    "for value in employee.values():\n",
    "    print(value)"
   ]
  }
 ],
 "metadata": {
  "kernelspec": {
   "display_name": "Python 3",
   "language": "python",
   "name": "python3"
  },
  "language_info": {
   "codemirror_mode": {
    "name": "ipython",
    "version": 3
   },
   "file_extension": ".py",
   "mimetype": "text/x-python",
   "name": "python",
   "nbconvert_exporter": "python",
   "pygments_lexer": "ipython3",
   "version": "3.13.3"
  }
 },
 "nbformat": 4,
 "nbformat_minor": 5
}
