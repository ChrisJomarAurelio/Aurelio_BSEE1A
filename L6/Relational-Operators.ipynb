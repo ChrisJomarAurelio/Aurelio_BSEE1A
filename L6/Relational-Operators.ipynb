{
 "cells": [
  {
   "cell_type": "markdown",
   "id": "59b2c9df",
   "metadata": {},
   "source": [
    "# Relational Operators"
   ]
  },
  {
   "cell_type": "markdown",
   "id": "a6d4f0da",
   "metadata": {},
   "source": [
    "Data Analyst: Chris Jomar A. Aurelio <br>\n",
    "Department: Electrical Engineering"
   ]
  },
  {
   "cell_type": "markdown",
   "id": "527a266b",
   "metadata": {},
   "source": [
    "# Equal To"
   ]
  },
  {
   "cell_type": "code",
   "execution_count": 1,
   "id": "0e01dcf8",
   "metadata": {},
   "outputs": [
    {
     "data": {
      "text/plain": [
       "True"
      ]
     },
     "execution_count": 1,
     "metadata": {},
     "output_type": "execute_result"
    }
   ],
   "source": [
    "a = 5 \n",
    "b = 5 \n",
    "a == b "
   ]
  },
  {
   "cell_type": "code",
   "execution_count": 2,
   "id": "169bf41e",
   "metadata": {},
   "outputs": [
    {
     "data": {
      "text/plain": [
       "False"
      ]
     },
     "execution_count": 2,
     "metadata": {},
     "output_type": "execute_result"
    }
   ],
   "source": [
    "a = 0\n",
    "b = 5 \n",
    "a == b "
   ]
  },
  {
   "cell_type": "markdown",
   "id": "064cc569",
   "metadata": {},
   "source": [
    "# Not Equal To"
   ]
  },
  {
   "cell_type": "code",
   "execution_count": 3,
   "id": "11e14f86",
   "metadata": {},
   "outputs": [
    {
     "data": {
      "text/plain": [
       "False"
      ]
     },
     "execution_count": 3,
     "metadata": {},
     "output_type": "execute_result"
    }
   ],
   "source": [
    "a = 5 \n",
    "b = 5 \n",
    "a!=b"
   ]
  },
  {
   "cell_type": "code",
   "execution_count": 4,
   "id": "1093288f",
   "metadata": {},
   "outputs": [
    {
     "data": {
      "text/plain": [
       "True"
      ]
     },
     "execution_count": 4,
     "metadata": {},
     "output_type": "execute_result"
    }
   ],
   "source": [
    "a = 0\n",
    "b = 5 \n",
    "a != b"
   ]
  },
  {
   "cell_type": "markdown",
   "id": "ed50310e",
   "metadata": {},
   "source": [
    "# Greater Than \n"
   ]
  },
  {
   "cell_type": "code",
   "execution_count": 5,
   "id": "d5806986",
   "metadata": {},
   "outputs": [
    {
     "data": {
      "text/plain": [
       "True"
      ]
     },
     "execution_count": 5,
     "metadata": {},
     "output_type": "execute_result"
    }
   ],
   "source": [
    "a = 5\n",
    "b = 0\n",
    "a > b"
   ]
  },
  {
   "cell_type": "code",
   "execution_count": 6,
   "id": "2dd66dd3",
   "metadata": {},
   "outputs": [
    {
     "data": {
      "text/plain": [
       "False"
      ]
     },
     "execution_count": 6,
     "metadata": {},
     "output_type": "execute_result"
    }
   ],
   "source": [
    "a = 0\n",
    "b = 5 \n",
    "a > 5"
   ]
  },
  {
   "cell_type": "markdown",
   "id": "7b588790",
   "metadata": {},
   "source": [
    "# Less Than"
   ]
  },
  {
   "cell_type": "code",
   "execution_count": 7,
   "id": "fa2a7c60",
   "metadata": {},
   "outputs": [
    {
     "data": {
      "text/plain": [
       "False"
      ]
     },
     "execution_count": 7,
     "metadata": {},
     "output_type": "execute_result"
    }
   ],
   "source": [
    "a = 5\n",
    "b = 0\n",
    "a < b"
   ]
  },
  {
   "cell_type": "code",
   "execution_count": 8,
   "id": "3eac0975",
   "metadata": {},
   "outputs": [
    {
     "data": {
      "text/plain": [
       "True"
      ]
     },
     "execution_count": 8,
     "metadata": {},
     "output_type": "execute_result"
    }
   ],
   "source": [
    "a = 0\n",
    "b = 5 \n",
    "a < b "
   ]
  },
  {
   "cell_type": "markdown",
   "id": "7da1d26e",
   "metadata": {},
   "source": [
    "# Greater Than Or Equal"
   ]
  },
  {
   "cell_type": "code",
   "execution_count": 9,
   "id": "f3f3576a",
   "metadata": {},
   "outputs": [
    {
     "data": {
      "text/plain": [
       "True"
      ]
     },
     "execution_count": 9,
     "metadata": {},
     "output_type": "execute_result"
    }
   ],
   "source": [
    "a = 3 \n",
    "b = 3\n",
    "a >= b"
   ]
  },
  {
   "cell_type": "code",
   "execution_count": 10,
   "id": "110ae918",
   "metadata": {},
   "outputs": [
    {
     "data": {
      "text/plain": [
       "True"
      ]
     },
     "execution_count": 10,
     "metadata": {},
     "output_type": "execute_result"
    }
   ],
   "source": [
    "a = 5 \n",
    "b = 3 \n",
    "a >= b"
   ]
  },
  {
   "cell_type": "markdown",
   "id": "42ba0991",
   "metadata": {},
   "source": [
    "# Less Than Or Equal To"
   ]
  },
  {
   "cell_type": "code",
   "execution_count": 11,
   "id": "9a56750b",
   "metadata": {},
   "outputs": [
    {
     "data": {
      "text/plain": [
       "True"
      ]
     },
     "execution_count": 11,
     "metadata": {},
     "output_type": "execute_result"
    }
   ],
   "source": [
    "a = 3\n",
    "b = 3\n",
    "a <= b"
   ]
  },
  {
   "cell_type": "code",
   "execution_count": 12,
   "id": "90131ffa",
   "metadata": {},
   "outputs": [
    {
     "data": {
      "text/plain": [
       "False"
      ]
     },
     "execution_count": 12,
     "metadata": {},
     "output_type": "execute_result"
    }
   ],
   "source": [
    "a = 5\n",
    "b = 3\n",
    "a <= b"
   ]
  }
 ],
 "metadata": {
  "kernelspec": {
   "display_name": "Python 3",
   "language": "python",
   "name": "python3"
  },
  "language_info": {
   "codemirror_mode": {
    "name": "ipython",
    "version": 3
   },
   "file_extension": ".py",
   "mimetype": "text/x-python",
   "name": "python",
   "nbconvert_exporter": "python",
   "pygments_lexer": "ipython3",
   "version": "3.13.3"
  }
 },
 "nbformat": 4,
 "nbformat_minor": 5
}
