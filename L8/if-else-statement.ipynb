{
 "cells": [
  {
   "cell_type": "markdown",
   "id": "1af74b54",
   "metadata": {},
   "source": [
    "# if-else statement <br>\n",
    "CONDITIONAL STATEMENT<hr style = \"border:2.5px Solid #126782\"></hr>\n"
   ]
  },
  {
   "cell_type": "markdown",
   "id": "06cd033b",
   "metadata": {},
   "source": [
    "Data Analyst: Chris Jomar A. Aurelio <br>\n",
    "Department: Electrical Engineering"
   ]
  },
  {
   "cell_type": "markdown",
   "id": "5d902192",
   "metadata": {},
   "source": [
    "# if statement "
   ]
  },
  {
   "cell_type": "code",
   "execution_count": null,
   "id": "f078e6ea",
   "metadata": {},
   "outputs": [
    {
     "name": "stdout",
     "output_type": "stream",
     "text": [
      "pasar ko!\n"
     ]
    }
   ],
   "source": [
    "# passing score is 5.0\n",
    "grade = 7.5\n",
    "\n",
    "if grade >= 5.0:\n",
    "    \n",
    "    print(\"pasar ko!\")"
   ]
  },
  {
   "cell_type": "code",
   "execution_count": 2,
   "id": "ad7fa1a5",
   "metadata": {},
   "outputs": [
    {
     "name": "stdout",
     "output_type": "stream",
     "text": [
      "di ka pasar!\n"
     ]
    }
   ],
   "source": [
    "# two statements are evaluated\n",
    "grade = 4.5 \n",
    "\n",
    "# evaluate grade\n",
    "if grade >= 5.0:\n",
    "    print(\"pasar ko!\")\n",
    "if grade < 5.0:\n",
    "    print(\"di ka pasar!\")"
   ]
  },
  {
   "cell_type": "markdown",
   "id": "a2775a8c",
   "metadata": {},
   "source": [
    "# if-else statement"
   ]
  },
  {
   "cell_type": "code",
   "execution_count": 10,
   "id": "d53b3be3",
   "metadata": {},
   "outputs": [
    {
     "name": "stdout",
     "output_type": "stream",
     "text": [
      "di ka pasar!\n"
     ]
    }
   ],
   "source": [
    "# if grade is >= 5.0 is true, else will not be evaluated\n",
    "grade = 4.0\n",
    "\n",
    "#evaluate grade\n",
    "if grade >= 5.0:\n",
    "    print(\"pasar ko!\")\n",
    "else:\n",
    "    print(\"di ka pasar!\")"
   ]
  },
  {
   "cell_type": "markdown",
   "id": "2f04aad1",
   "metadata": {},
   "source": [
    "# if-elif-else statement\n"
   ]
  },
  {
   "cell_type": "code",
   "execution_count": 15,
   "id": "92640fda",
   "metadata": {},
   "outputs": [
    {
     "name": "stdout",
     "output_type": "stream",
     "text": [
      "FAILED\n"
     ]
    }
   ],
   "source": [
    "# if grade >= 5.0 is True, other conditions will not be evaluated\n",
    "grade = 2.9\n",
    "\n",
    "#evaluate grade\n",
    "if grade >= 5.0:\n",
    "    print(\"pasar ko!\")\n",
    "elif grade < 5.0: # <= 5.0 evaluated first\n",
    "    print(\"FAILED\")\n",
    "elif grade < 3.0:\n",
    "    print(\"DISMISSED!\")\n",
    "else:\n",
    "    print(\"INVALID\")"
   ]
  },
  {
   "cell_type": "code",
   "execution_count": 13,
   "id": "e52c71fd",
   "metadata": {},
   "outputs": [
    {
     "name": "stdout",
     "output_type": "stream",
     "text": [
      "DISMISSED!\n"
     ]
    }
   ],
   "source": [
    "# if grade >= 5.0 is True, other conditions will not be evaluated\n",
    "grade = 2.9\n",
    "\n",
    "#evaluate grade\n",
    "if grade >= 5.0:\n",
    "    print(\"pasar ko!\")\n",
    "elif grade < 3.0: # <= 3.0 evaluated first\n",
    "    print(\"DISMISSED!\")\n",
    "elif grade < 5.0:\n",
    "    print(\"Failed!\")\n",
    "else:\n",
    "    print(\"INVALID\")"
   ]
  }
 ],
 "metadata": {
  "kernelspec": {
   "display_name": "Python 3",
   "language": "python",
   "name": "python3"
  },
  "language_info": {
   "codemirror_mode": {
    "name": "ipython",
    "version": 3
   },
   "file_extension": ".py",
   "mimetype": "text/x-python",
   "name": "python",
   "nbconvert_exporter": "python",
   "pygments_lexer": "ipython3",
   "version": "3.13.3"
  }
 },
 "nbformat": 4,
 "nbformat_minor": 5
}
